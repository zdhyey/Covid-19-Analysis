{
  "nbformat": 4,
  "nbformat_minor": 0,
  "metadata": {
    "colab": {
      "name": "Covid-19.ipynb",
      "provenance": [],
      "collapsed_sections": [],
      "toc_visible": true
    },
    "kernelspec": {
      "name": "python3",
      "display_name": "Python 3"
    },
    "language_info": {
      "name": "python"
    }
  },
  "cells": [
    {
      "cell_type": "code",
      "metadata": {
        "id": "88F8__aFMn84"
      },
      "source": [
        "import pandas as pd\n",
        "import requests"
      ],
      "execution_count": 57,
      "outputs": []
    },
    {
      "cell_type": "markdown",
      "metadata": {
        "id": "-MskVZlBNP3_"
      },
      "source": [
        "##Data Collection"
      ]
    },
    {
      "cell_type": "code",
      "metadata": {
        "id": "z3g5P_uGNMJW"
      },
      "source": [
        "url = \"https://en.wikipedia.org/wiki/COVID-19_pandemic_by_country_and_territory\"\n",
        "req = requests.get(url)\n",
        "\n",
        "data_list = pd.read_html(req.text)"
      ],
      "execution_count": 58,
      "outputs": []
    },
    {
      "cell_type": "code",
      "metadata": {
        "colab": {
          "base_uri": "https://localhost:8080/",
          "height": 484
        },
        "id": "6kGUpfdrObUQ",
        "outputId": "3c0cf70a-9a71-4e29-c680-60c5a9d1166a"
      },
      "source": [
        "target_df = data_list[2]\n",
        "target_df"
      ],
      "execution_count": 59,
      "outputs": [
        {
          "output_type": "execute_result",
          "data": {
            "text/html": [
              "<div>\n",
              "<style scoped>\n",
              "    .dataframe tbody tr th:only-of-type {\n",
              "        vertical-align: middle;\n",
              "    }\n",
              "\n",
              "    .dataframe tbody tr th {\n",
              "        vertical-align: top;\n",
              "    }\n",
              "\n",
              "    .dataframe thead tr th {\n",
              "        text-align: left;\n",
              "    }\n",
              "</style>\n",
              "<table border=\"1\" class=\"dataframe\">\n",
              "  <thead>\n",
              "    <tr>\n",
              "      <th></th>\n",
              "      <th colspan=\"2\" halign=\"left\">Location[a]</th>\n",
              "      <th>Cases[b]</th>\n",
              "      <th>Deaths[c]</th>\n",
              "      <th>Recov.[d]</th>\n",
              "      <th>Ref.</th>\n",
              "    </tr>\n",
              "    <tr>\n",
              "      <th></th>\n",
              "      <th>Unnamed: 0_level_1</th>\n",
              "      <th>World[e]</th>\n",
              "      <th>152,199,538</th>\n",
              "      <th>3,192,613</th>\n",
              "      <th>89,931,151</th>\n",
              "      <th>[4]</th>\n",
              "    </tr>\n",
              "  </thead>\n",
              "  <tbody>\n",
              "    <tr>\n",
              "      <th>0</th>\n",
              "      <td>NaN</td>\n",
              "      <td>United States[f]</td>\n",
              "      <td>32580305</td>\n",
              "      <td>582838</td>\n",
              "      <td>No data</td>\n",
              "      <td>[17]</td>\n",
              "    </tr>\n",
              "    <tr>\n",
              "      <th>1</th>\n",
              "      <td>NaN</td>\n",
              "      <td>India</td>\n",
              "      <td>19164969</td>\n",
              "      <td>211853</td>\n",
              "      <td>15684406</td>\n",
              "      <td>[18]</td>\n",
              "    </tr>\n",
              "    <tr>\n",
              "      <th>2</th>\n",
              "      <td>NaN</td>\n",
              "      <td>Brazil</td>\n",
              "      <td>14725975</td>\n",
              "      <td>406565</td>\n",
              "      <td>13242665</td>\n",
              "      <td>[19][20]</td>\n",
              "    </tr>\n",
              "    <tr>\n",
              "      <th>3</th>\n",
              "      <td>NaN</td>\n",
              "      <td>France[g]</td>\n",
              "      <td>5642359</td>\n",
              "      <td>104706</td>\n",
              "      <td>No data</td>\n",
              "      <td>[21][22]</td>\n",
              "    </tr>\n",
              "    <tr>\n",
              "      <th>4</th>\n",
              "      <td>NaN</td>\n",
              "      <td>Turkey[h]</td>\n",
              "      <td>4849408</td>\n",
              "      <td>40504</td>\n",
              "      <td>4405199</td>\n",
              "      <td>[26]</td>\n",
              "    </tr>\n",
              "    <tr>\n",
              "      <th>...</th>\n",
              "      <td>...</td>\n",
              "      <td>...</td>\n",
              "      <td>...</td>\n",
              "      <td>...</td>\n",
              "      <td>...</td>\n",
              "      <td>...</td>\n",
              "    </tr>\n",
              "    <tr>\n",
              "      <th>236</th>\n",
              "      <td>NaN</td>\n",
              "      <td>Vanuatu</td>\n",
              "      <td>4</td>\n",
              "      <td>1</td>\n",
              "      <td>3</td>\n",
              "      <td>[350][351]</td>\n",
              "    </tr>\n",
              "    <tr>\n",
              "      <th>237</th>\n",
              "      <td>NaN</td>\n",
              "      <td>Federated States of Micronesia</td>\n",
              "      <td>1</td>\n",
              "      <td>0</td>\n",
              "      <td>1</td>\n",
              "      <td>[352]</td>\n",
              "    </tr>\n",
              "    <tr>\n",
              "      <th>238</th>\n",
              "      <td>NaN</td>\n",
              "      <td>Tanzania[bd]</td>\n",
              "      <td>No data</td>\n",
              "      <td>No data</td>\n",
              "      <td>No data</td>\n",
              "      <td>[354][355]</td>\n",
              "    </tr>\n",
              "    <tr>\n",
              "      <th>239</th>\n",
              "      <td>As of 1 May 2021 (UTC) · History of cases · Hi...</td>\n",
              "      <td>As of 1 May 2021 (UTC) · History of cases · Hi...</td>\n",
              "      <td>As of 1 May 2021 (UTC) · History of cases · Hi...</td>\n",
              "      <td>As of 1 May 2021 (UTC) · History of cases · Hi...</td>\n",
              "      <td>As of 1 May 2021 (UTC) · History of cases · Hi...</td>\n",
              "      <td>As of 1 May 2021 (UTC) · History of cases · Hi...</td>\n",
              "    </tr>\n",
              "    <tr>\n",
              "      <th>240</th>\n",
              "      <td>Notes.mw-parser-output .reflist{font-size:90%;...</td>\n",
              "      <td>Notes.mw-parser-output .reflist{font-size:90%;...</td>\n",
              "      <td>Notes.mw-parser-output .reflist{font-size:90%;...</td>\n",
              "      <td>Notes.mw-parser-output .reflist{font-size:90%;...</td>\n",
              "      <td>Notes.mw-parser-output .reflist{font-size:90%;...</td>\n",
              "      <td>Notes.mw-parser-output .reflist{font-size:90%;...</td>\n",
              "    </tr>\n",
              "  </tbody>\n",
              "</table>\n",
              "<p>241 rows × 6 columns</p>\n",
              "</div>"
            ],
            "text/plain": [
              "                                           Location[a]  ...                                               Ref.\n",
              "                                    Unnamed: 0_level_1  ...                                                [4]\n",
              "0                                                  NaN  ...                                               [17]\n",
              "1                                                  NaN  ...                                               [18]\n",
              "2                                                  NaN  ...                                           [19][20]\n",
              "3                                                  NaN  ...                                           [21][22]\n",
              "4                                                  NaN  ...                                               [26]\n",
              "..                                                 ...  ...                                                ...\n",
              "236                                                NaN  ...                                         [350][351]\n",
              "237                                                NaN  ...                                              [352]\n",
              "238                                                NaN  ...                                         [354][355]\n",
              "239  As of 1 May 2021 (UTC) · History of cases · Hi...  ...  As of 1 May 2021 (UTC) · History of cases · Hi...\n",
              "240  Notes.mw-parser-output .reflist{font-size:90%;...  ...  Notes.mw-parser-output .reflist{font-size:90%;...\n",
              "\n",
              "[241 rows x 6 columns]"
            ]
          },
          "metadata": {
            "tags": []
          },
          "execution_count": 59
        }
      ]
    },
    {
      "cell_type": "markdown",
      "metadata": {
        "id": "MvjhhiWjQ9hy"
      },
      "source": [
        "##Data Cleaning##"
      ]
    },
    {
      "cell_type": "markdown",
      "metadata": {
        "id": "BbxUboxKSbYh"
      },
      "source": [
        "Column renaming"
      ]
    },
    {
      "cell_type": "code",
      "metadata": {
        "id": "CRznYYcJRAL3"
      },
      "source": [
        "target_df.columns = ['Col0', 'Country Name', 'Total Cases', 'Total Deaths', 'Total Recoveries', 'Col5']"
      ],
      "execution_count": 60,
      "outputs": []
    },
    {
      "cell_type": "markdown",
      "metadata": {
        "id": "k2XirA6uVMjw"
      },
      "source": [
        "Deleting useless columns"
      ]
    },
    {
      "cell_type": "code",
      "metadata": {
        "id": "rNyz0K0YR47U"
      },
      "source": [
        "target_df = target_df[['Country Name', 'Total Cases', 'Total Deaths', 'Total Recoveries']]"
      ],
      "execution_count": 61,
      "outputs": []
    },
    {
      "cell_type": "markdown",
      "metadata": {
        "id": "dK_zLRVQVt-X"
      },
      "source": [
        "Deleting useless Rows"
      ]
    },
    {
      "cell_type": "code",
      "metadata": {
        "colab": {
          "base_uri": "https://localhost:8080/",
          "height": 419
        },
        "id": "DcEQXvWQVD30",
        "outputId": "4e2af216-e57e-450e-e57e-940c627a593f"
      },
      "source": [
        "last_idx = target_df.index[-1]\n",
        "target_df = target_df.drop([last_idx, last_idx-1])\n",
        "target_df"
      ],
      "execution_count": 62,
      "outputs": [
        {
          "output_type": "execute_result",
          "data": {
            "text/html": [
              "<div>\n",
              "<style scoped>\n",
              "    .dataframe tbody tr th:only-of-type {\n",
              "        vertical-align: middle;\n",
              "    }\n",
              "\n",
              "    .dataframe tbody tr th {\n",
              "        vertical-align: top;\n",
              "    }\n",
              "\n",
              "    .dataframe thead th {\n",
              "        text-align: right;\n",
              "    }\n",
              "</style>\n",
              "<table border=\"1\" class=\"dataframe\">\n",
              "  <thead>\n",
              "    <tr style=\"text-align: right;\">\n",
              "      <th></th>\n",
              "      <th>Country Name</th>\n",
              "      <th>Total Cases</th>\n",
              "      <th>Total Deaths</th>\n",
              "      <th>Total Recoveries</th>\n",
              "    </tr>\n",
              "  </thead>\n",
              "  <tbody>\n",
              "    <tr>\n",
              "      <th>0</th>\n",
              "      <td>United States[f]</td>\n",
              "      <td>32580305</td>\n",
              "      <td>582838</td>\n",
              "      <td>No data</td>\n",
              "    </tr>\n",
              "    <tr>\n",
              "      <th>1</th>\n",
              "      <td>India</td>\n",
              "      <td>19164969</td>\n",
              "      <td>211853</td>\n",
              "      <td>15684406</td>\n",
              "    </tr>\n",
              "    <tr>\n",
              "      <th>2</th>\n",
              "      <td>Brazil</td>\n",
              "      <td>14725975</td>\n",
              "      <td>406565</td>\n",
              "      <td>13242665</td>\n",
              "    </tr>\n",
              "    <tr>\n",
              "      <th>3</th>\n",
              "      <td>France[g]</td>\n",
              "      <td>5642359</td>\n",
              "      <td>104706</td>\n",
              "      <td>No data</td>\n",
              "    </tr>\n",
              "    <tr>\n",
              "      <th>4</th>\n",
              "      <td>Turkey[h]</td>\n",
              "      <td>4849408</td>\n",
              "      <td>40504</td>\n",
              "      <td>4405199</td>\n",
              "    </tr>\n",
              "    <tr>\n",
              "      <th>...</th>\n",
              "      <td>...</td>\n",
              "      <td>...</td>\n",
              "      <td>...</td>\n",
              "      <td>...</td>\n",
              "    </tr>\n",
              "    <tr>\n",
              "      <th>234</th>\n",
              "      <td>American Samoa</td>\n",
              "      <td>4</td>\n",
              "      <td>0</td>\n",
              "      <td>3</td>\n",
              "    </tr>\n",
              "    <tr>\n",
              "      <th>235</th>\n",
              "      <td>Samoa</td>\n",
              "      <td>4</td>\n",
              "      <td>0</td>\n",
              "      <td>2</td>\n",
              "    </tr>\n",
              "    <tr>\n",
              "      <th>236</th>\n",
              "      <td>Vanuatu</td>\n",
              "      <td>4</td>\n",
              "      <td>1</td>\n",
              "      <td>3</td>\n",
              "    </tr>\n",
              "    <tr>\n",
              "      <th>237</th>\n",
              "      <td>Federated States of Micronesia</td>\n",
              "      <td>1</td>\n",
              "      <td>0</td>\n",
              "      <td>1</td>\n",
              "    </tr>\n",
              "    <tr>\n",
              "      <th>238</th>\n",
              "      <td>Tanzania[bd]</td>\n",
              "      <td>No data</td>\n",
              "      <td>No data</td>\n",
              "      <td>No data</td>\n",
              "    </tr>\n",
              "  </tbody>\n",
              "</table>\n",
              "<p>239 rows × 4 columns</p>\n",
              "</div>"
            ],
            "text/plain": [
              "                       Country Name Total Cases Total Deaths Total Recoveries\n",
              "0                  United States[f]    32580305       582838          No data\n",
              "1                             India    19164969       211853         15684406\n",
              "2                            Brazil    14725975       406565         13242665\n",
              "3                         France[g]     5642359       104706          No data\n",
              "4                         Turkey[h]     4849408        40504          4405199\n",
              "..                              ...         ...          ...              ...\n",
              "234                  American Samoa           4            0                3\n",
              "235                           Samoa           4            0                2\n",
              "236                         Vanuatu           4            1                3\n",
              "237  Federated States of Micronesia           1            0                1\n",
              "238                    Tanzania[bd]     No data      No data          No data\n",
              "\n",
              "[239 rows x 4 columns]"
            ]
          },
          "metadata": {
            "tags": []
          },
          "execution_count": 62
        }
      ]
    },
    {
      "cell_type": "markdown",
      "metadata": {
        "id": "hbtGCaxuV5Q1"
      },
      "source": [
        "Inconsistent Country Names"
      ]
    },
    {
      "cell_type": "code",
      "metadata": {
        "colab": {
          "base_uri": "https://localhost:8080/",
          "height": 419
        },
        "id": "XOWQK3-FVyAS",
        "outputId": "214b4c55-b4cc-44c8-bd52-3f76d0168e63"
      },
      "source": [
        "target_df['Country Name'] = target_df['Country Name'].str.replace('\\[.*\\]','')\n",
        "\n",
        "target_df"
      ],
      "execution_count": 63,
      "outputs": [
        {
          "output_type": "execute_result",
          "data": {
            "text/html": [
              "<div>\n",
              "<style scoped>\n",
              "    .dataframe tbody tr th:only-of-type {\n",
              "        vertical-align: middle;\n",
              "    }\n",
              "\n",
              "    .dataframe tbody tr th {\n",
              "        vertical-align: top;\n",
              "    }\n",
              "\n",
              "    .dataframe thead th {\n",
              "        text-align: right;\n",
              "    }\n",
              "</style>\n",
              "<table border=\"1\" class=\"dataframe\">\n",
              "  <thead>\n",
              "    <tr style=\"text-align: right;\">\n",
              "      <th></th>\n",
              "      <th>Country Name</th>\n",
              "      <th>Total Cases</th>\n",
              "      <th>Total Deaths</th>\n",
              "      <th>Total Recoveries</th>\n",
              "    </tr>\n",
              "  </thead>\n",
              "  <tbody>\n",
              "    <tr>\n",
              "      <th>0</th>\n",
              "      <td>United States</td>\n",
              "      <td>32580305</td>\n",
              "      <td>582838</td>\n",
              "      <td>No data</td>\n",
              "    </tr>\n",
              "    <tr>\n",
              "      <th>1</th>\n",
              "      <td>India</td>\n",
              "      <td>19164969</td>\n",
              "      <td>211853</td>\n",
              "      <td>15684406</td>\n",
              "    </tr>\n",
              "    <tr>\n",
              "      <th>2</th>\n",
              "      <td>Brazil</td>\n",
              "      <td>14725975</td>\n",
              "      <td>406565</td>\n",
              "      <td>13242665</td>\n",
              "    </tr>\n",
              "    <tr>\n",
              "      <th>3</th>\n",
              "      <td>France</td>\n",
              "      <td>5642359</td>\n",
              "      <td>104706</td>\n",
              "      <td>No data</td>\n",
              "    </tr>\n",
              "    <tr>\n",
              "      <th>4</th>\n",
              "      <td>Turkey</td>\n",
              "      <td>4849408</td>\n",
              "      <td>40504</td>\n",
              "      <td>4405199</td>\n",
              "    </tr>\n",
              "    <tr>\n",
              "      <th>...</th>\n",
              "      <td>...</td>\n",
              "      <td>...</td>\n",
              "      <td>...</td>\n",
              "      <td>...</td>\n",
              "    </tr>\n",
              "    <tr>\n",
              "      <th>234</th>\n",
              "      <td>American Samoa</td>\n",
              "      <td>4</td>\n",
              "      <td>0</td>\n",
              "      <td>3</td>\n",
              "    </tr>\n",
              "    <tr>\n",
              "      <th>235</th>\n",
              "      <td>Samoa</td>\n",
              "      <td>4</td>\n",
              "      <td>0</td>\n",
              "      <td>2</td>\n",
              "    </tr>\n",
              "    <tr>\n",
              "      <th>236</th>\n",
              "      <td>Vanuatu</td>\n",
              "      <td>4</td>\n",
              "      <td>1</td>\n",
              "      <td>3</td>\n",
              "    </tr>\n",
              "    <tr>\n",
              "      <th>237</th>\n",
              "      <td>Federated States of Micronesia</td>\n",
              "      <td>1</td>\n",
              "      <td>0</td>\n",
              "      <td>1</td>\n",
              "    </tr>\n",
              "    <tr>\n",
              "      <th>238</th>\n",
              "      <td>Tanzania</td>\n",
              "      <td>No data</td>\n",
              "      <td>No data</td>\n",
              "      <td>No data</td>\n",
              "    </tr>\n",
              "  </tbody>\n",
              "</table>\n",
              "<p>239 rows × 4 columns</p>\n",
              "</div>"
            ],
            "text/plain": [
              "                       Country Name Total Cases Total Deaths Total Recoveries\n",
              "0                     United States    32580305       582838          No data\n",
              "1                             India    19164969       211853         15684406\n",
              "2                            Brazil    14725975       406565         13242665\n",
              "3                            France     5642359       104706          No data\n",
              "4                            Turkey     4849408        40504          4405199\n",
              "..                              ...         ...          ...              ...\n",
              "234                  American Samoa           4            0                3\n",
              "235                           Samoa           4            0                2\n",
              "236                         Vanuatu           4            1                3\n",
              "237  Federated States of Micronesia           1            0                1\n",
              "238                        Tanzania     No data      No data          No data\n",
              "\n",
              "[239 rows x 4 columns]"
            ]
          },
          "metadata": {
            "tags": []
          },
          "execution_count": 63
        }
      ]
    },
    {
      "cell_type": "markdown",
      "metadata": {
        "id": "772d8h-oe3W0"
      },
      "source": [
        "Extra Value in Column 4"
      ]
    },
    {
      "cell_type": "code",
      "metadata": {
        "colab": {
          "base_uri": "https://localhost:8080/",
          "height": 419
        },
        "id": "yAj0YWsme736",
        "outputId": "7f6dac31-3872-4c75-cfa0-816a214355d7"
      },
      "source": [
        "target_df['Total Recoveries'] = target_df['Total Recoveries'].str.replace('No data','0')\n",
        "target_df['Total Cases'] = target_df['Total Cases'].str.replace('No data','0')\n",
        "target_df['Total Deaths'] = target_df['Total Deaths'].str.replace('No data','0')\n",
        "target_df"
      ],
      "execution_count": 64,
      "outputs": [
        {
          "output_type": "execute_result",
          "data": {
            "text/html": [
              "<div>\n",
              "<style scoped>\n",
              "    .dataframe tbody tr th:only-of-type {\n",
              "        vertical-align: middle;\n",
              "    }\n",
              "\n",
              "    .dataframe tbody tr th {\n",
              "        vertical-align: top;\n",
              "    }\n",
              "\n",
              "    .dataframe thead th {\n",
              "        text-align: right;\n",
              "    }\n",
              "</style>\n",
              "<table border=\"1\" class=\"dataframe\">\n",
              "  <thead>\n",
              "    <tr style=\"text-align: right;\">\n",
              "      <th></th>\n",
              "      <th>Country Name</th>\n",
              "      <th>Total Cases</th>\n",
              "      <th>Total Deaths</th>\n",
              "      <th>Total Recoveries</th>\n",
              "    </tr>\n",
              "  </thead>\n",
              "  <tbody>\n",
              "    <tr>\n",
              "      <th>0</th>\n",
              "      <td>United States</td>\n",
              "      <td>32580305</td>\n",
              "      <td>582838</td>\n",
              "      <td>0</td>\n",
              "    </tr>\n",
              "    <tr>\n",
              "      <th>1</th>\n",
              "      <td>India</td>\n",
              "      <td>19164969</td>\n",
              "      <td>211853</td>\n",
              "      <td>15684406</td>\n",
              "    </tr>\n",
              "    <tr>\n",
              "      <th>2</th>\n",
              "      <td>Brazil</td>\n",
              "      <td>14725975</td>\n",
              "      <td>406565</td>\n",
              "      <td>13242665</td>\n",
              "    </tr>\n",
              "    <tr>\n",
              "      <th>3</th>\n",
              "      <td>France</td>\n",
              "      <td>5642359</td>\n",
              "      <td>104706</td>\n",
              "      <td>0</td>\n",
              "    </tr>\n",
              "    <tr>\n",
              "      <th>4</th>\n",
              "      <td>Turkey</td>\n",
              "      <td>4849408</td>\n",
              "      <td>40504</td>\n",
              "      <td>4405199</td>\n",
              "    </tr>\n",
              "    <tr>\n",
              "      <th>...</th>\n",
              "      <td>...</td>\n",
              "      <td>...</td>\n",
              "      <td>...</td>\n",
              "      <td>...</td>\n",
              "    </tr>\n",
              "    <tr>\n",
              "      <th>234</th>\n",
              "      <td>American Samoa</td>\n",
              "      <td>4</td>\n",
              "      <td>0</td>\n",
              "      <td>3</td>\n",
              "    </tr>\n",
              "    <tr>\n",
              "      <th>235</th>\n",
              "      <td>Samoa</td>\n",
              "      <td>4</td>\n",
              "      <td>0</td>\n",
              "      <td>2</td>\n",
              "    </tr>\n",
              "    <tr>\n",
              "      <th>236</th>\n",
              "      <td>Vanuatu</td>\n",
              "      <td>4</td>\n",
              "      <td>1</td>\n",
              "      <td>3</td>\n",
              "    </tr>\n",
              "    <tr>\n",
              "      <th>237</th>\n",
              "      <td>Federated States of Micronesia</td>\n",
              "      <td>1</td>\n",
              "      <td>0</td>\n",
              "      <td>1</td>\n",
              "    </tr>\n",
              "    <tr>\n",
              "      <th>238</th>\n",
              "      <td>Tanzania</td>\n",
              "      <td>0</td>\n",
              "      <td>0</td>\n",
              "      <td>0</td>\n",
              "    </tr>\n",
              "  </tbody>\n",
              "</table>\n",
              "<p>239 rows × 4 columns</p>\n",
              "</div>"
            ],
            "text/plain": [
              "                       Country Name Total Cases Total Deaths Total Recoveries\n",
              "0                     United States    32580305       582838                0\n",
              "1                             India    19164969       211853         15684406\n",
              "2                            Brazil    14725975       406565         13242665\n",
              "3                            France     5642359       104706                0\n",
              "4                            Turkey     4849408        40504          4405199\n",
              "..                              ...         ...          ...              ...\n",
              "234                  American Samoa           4            0                3\n",
              "235                           Samoa           4            0                2\n",
              "236                         Vanuatu           4            1                3\n",
              "237  Federated States of Micronesia           1            0                1\n",
              "238                        Tanzania           0            0                0\n",
              "\n",
              "[239 rows x 4 columns]"
            ]
          },
          "metadata": {
            "tags": []
          },
          "execution_count": 64
        }
      ]
    },
    {
      "cell_type": "markdown",
      "metadata": {
        "id": "4YhflxF4hQFB"
      },
      "source": [
        "Wrong Data Type"
      ]
    },
    {
      "cell_type": "code",
      "metadata": {
        "colab": {
          "base_uri": "https://localhost:8080/"
        },
        "id": "ht8hrrsIhRmg",
        "outputId": "8797926f-6c91-4f5a-8892-1fb4a85fe963"
      },
      "source": [
        "target_df['Total Cases'] = pd.to_numeric(target_df['Total Cases'])\n",
        "target_df['Total Deaths'][177] = \"60\"\n",
        "target_df['Total Deaths'] = pd.to_numeric(target_df['Total Deaths'])\n",
        "target_df['Total Recoveries'] = pd.to_numeric(target_df['Total Recoveries'])\n",
        "target_df['Total Deaths']"
      ],
      "execution_count": 68,
      "outputs": [
        {
          "output_type": "stream",
          "text": [
            "/usr/local/lib/python3.7/dist-packages/ipykernel_launcher.py:2: SettingWithCopyWarning: \n",
            "A value is trying to be set on a copy of a slice from a DataFrame\n",
            "\n",
            "See the caveats in the documentation: https://pandas.pydata.org/pandas-docs/stable/user_guide/indexing.html#returning-a-view-versus-a-copy\n",
            "  \n"
          ],
          "name": "stderr"
        },
        {
          "output_type": "execute_result",
          "data": {
            "text/plain": [
              "0      582838\n",
              "1      211853\n",
              "2      406565\n",
              "3      104706\n",
              "4       40504\n",
              "        ...  \n",
              "234         0\n",
              "235         0\n",
              "236         1\n",
              "237         0\n",
              "238         0\n",
              "Name: Total Deaths, Length: 239, dtype: int64"
            ]
          },
          "metadata": {
            "tags": []
          },
          "execution_count": 68
        }
      ]
    },
    {
      "cell_type": "markdown",
      "metadata": {
        "id": "opqO43VKoKt5"
      },
      "source": [
        "##Export Dataset"
      ]
    },
    {
      "cell_type": "code",
      "metadata": {
        "id": "EEO_HFUIni8i"
      },
      "source": [
        "target_df.to_csv(r'covid19_dataset.csv')"
      ],
      "execution_count": 69,
      "outputs": []
    }
  ]
}